{
 "cells": [
  {
   "cell_type": "code",
   "execution_count": null,
   "metadata": {},
   "outputs": [],
   "source": [
    "from collections import deque\n",
    "\n",
    "def solution(src, dest):\n",
    "    # Define the possible knight moves\n",
    "    moves = [\n",
    "        (-2, -1), (-1, -2), (1, -2), (2, -1),\n",
    "        (-2, 1), (-1, 2), (1, 2), (2, 1)\n",
    "    ]\n",
    "\n",
    "    # Convert the 1D index to a 2D position on the board\n",
    "    def get_position(num):\n",
    "        return num // 8, num % 8\n",
    "\n",
    "    # Check if the position is on the board\n",
    "    def is_valid_position(x, y):\n",
    "        return 0 <= x < 8 and 0 <= y < 8\n",
    "\n",
    "    # Convert 2D position back to 1D index\n",
    "    def get_index(x, y):\n",
    "        return x * 8 + y\n",
    "\n",
    "    # BFS\n",
    "    visited = [False] * 64\n",
    "    src_x, src_y = get_position(src)\n",
    "    dest_x, dest_y = get_position(dest)\n",
    "    queue = deque([(src_x, src_y, 0)])  # x, y, steps taken\n",
    "\n",
    "    while queue:\n",
    "        x, y, steps = queue.popleft()\n",
    "\n",
    "        # If this is the destination, return the number of steps\n",
    "        if (x, y) == (dest_x, dest_y):\n",
    "            return steps\n",
    "\n",
    "        for dx, dy in moves:\n",
    "            new_x, new_y = x + dx, y + dy\n",
    "\n",
    "            if is_valid_position(new_x, new_y) and not visited[get_index(new_x, new_y)]:\n",
    "                visited[get_index(new_x, new_y)] = True\n",
    "                queue.append((new_x, new_y, steps + 1))\n",
    "\n",
    "    # This should not happen for a valid board\n",
    "    return -1\n",
    "\n",
    "# Test\n",
    "print(solution(0, 1)) # Expected: 3\n",
    "print(solution(0, 63)) # Expected: 6\n"
   ]
  }
 ],
 "metadata": {
  "language_info": {
   "name": "python"
  },
  "orig_nbformat": 4
 },
 "nbformat": 4,
 "nbformat_minor": 2
}
